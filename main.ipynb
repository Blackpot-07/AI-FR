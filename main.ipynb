{
 "cells": [
  {
   "cell_type": "code",
   "execution_count": 1,
   "metadata": {},
   "outputs": [],
   "source": [
    "import tensorflow as tf\n",
    "from tensorflow import keras\n",
    "from tensorflow.keras import Model, layers \n",
    "import cv2\n",
    "import matplotlib.pyplot as plt\n",
    "import numpy as np\n",
    "import os"
   ]
  },
  {
   "cell_type": "code",
   "execution_count": 2,
   "metadata": {},
   "outputs": [],
   "source": [
    "model = keras.models.load_model('/AI FR/fr.h5')"
   ]
  },
  {
   "cell_type": "code",
   "execution_count": 3,
   "metadata": {},
   "outputs": [],
   "source": [
    "def extract_face(img):\n",
    "   face_cascade = cv2.CascadeClassifier(cv2.data.haarcascades + 'haarcascade_frontalface_alt.xml')\n",
    "   faces = face_cascade.detectMultiScale(img, 1.3, 5)\n",
    "   extracted_face=img.copy()\n",
    "   for (x,y,w,h) in faces: \n",
    "      cv2.rectangle(img,(x,y),(x+w,y+h),(0,255,255),2)\n",
    "      extracted_face = img[y:y+h,x:x+w]\n",
    "   return cv2.resize(extracted_face, (128,128), interpolation = cv2.INTER_AREA)\n"
   ]
  },
  {
   "cell_type": "code",
   "execution_count": null,
   "metadata": {},
   "outputs": [],
   "source": []
  },
  {
   "cell_type": "code",
   "execution_count": 33,
   "metadata": {},
   "outputs": [],
   "source": [
    "def ispresent_(d_image,captured_image,i):\n",
    "    concat_image = np.concatenate([d_image,captured_image],axis=2)\n",
    "    test_data = list()\n",
    "    test_data.append(concat_image)\n",
    "    test_data=np.array(test_data)\n",
    "    y_pred = model.predict(test_data)\n",
    "    print(i,' ',y_pred)\n",
    "    if y_pred>0.97:\n",
    "        return(1)\n",
    "    else:\n",
    "        return(0)"
   ]
  },
  {
   "cell_type": "code",
   "execution_count": 38,
   "metadata": {},
   "outputs": [],
   "source": [
    "student_ids = {0:'abdullah irfan',1:'moiz siddiqui'}\n",
    "student_attendance = {'abdullah irfan':'A','moiz siddiqui':'A'}\n",
    "student_faces = dict()\n",
    "base_folder = \"/AI FR/student_faces\"\n",
    "for file in os.listdir(\"/AI FR/student_faces\"):\n",
    "    student_faces[int(file.replace('.jpg',''))] = extract_face(plt.imread(os.path.join(base_folder,file)))\n",
    "    \n",
    "   \n",
    "        "
   ]
  },
  {
   "cell_type": "code",
   "execution_count": null,
   "metadata": {},
   "outputs": [],
   "source": []
  },
  {
   "cell_type": "code",
   "execution_count": 39,
   "metadata": {},
   "outputs": [
    {
     "name": "stdout",
     "output_type": "stream",
     "text": [
      "1/1 [==============================] - 0s 39ms/step\n",
      "0   [[0.9956702]]\n"
     ]
    }
   ],
   "source": [
    "captured_face = 0\n",
    "face_cascade = cv2.CascadeClassifier(cv2.data.haarcascades + 'haarcascade_frontalface_alt.xml')\n",
    "img = cv2.VideoCapture(0)\n",
    "flag = False\n",
    "while(1):\n",
    "    _,f=img.read()\n",
    "    video = face_cascade.detectMultiScale(f, 1.3, 2)\n",
    "    for (x,y,w,h) in video:\n",
    "        cv2.rectangle(f,(x,y),(x+w,y+h),(0,255,255),2)\n",
    "        captured_face = f[y:y+h,x:x+w]\n",
    "        captured_face=cv2.resize(captured_face, (128,128), interpolation = cv2.INTER_AREA)\n",
    "        if flag == False:\n",
    "            for i in student_faces.keys():\n",
    "                if ispresent_(student_faces[i],captured_face,i):\n",
    "                    student_attendance[student_ids[i]] = 'P'\n",
    "                    break\n",
    "            flag = True\n",
    "    cv2.imshow('test',f)\n",
    "    if cv2.waitKey(25) == 27:\n",
    "        break\n",
    "\n",
    "cv2.destroyAllWindows()\n",
    "img.release()"
   ]
  },
  {
   "cell_type": "code",
   "execution_count": null,
   "metadata": {},
   "outputs": [],
   "source": []
  },
  {
   "cell_type": "code",
   "execution_count": 40,
   "metadata": {},
   "outputs": [
    {
     "data": {
      "text/plain": [
       "{'abdullah irfan': 'P', 'moiz siddiqui': 'A'}"
      ]
     },
     "execution_count": 40,
     "metadata": {},
     "output_type": "execute_result"
    }
   ],
   "source": [
    "student_attendance"
   ]
  },
  {
   "cell_type": "code",
   "execution_count": null,
   "metadata": {},
   "outputs": [],
   "source": []
  },
  {
   "attachments": {},
   "cell_type": "markdown",
   "metadata": {},
   "source": []
  }
 ],
 "metadata": {
  "kernelspec": {
   "display_name": "base",
   "language": "python",
   "name": "python3"
  },
  "language_info": {
   "codemirror_mode": {
    "name": "ipython",
    "version": 3
   },
   "file_extension": ".py",
   "mimetype": "text/x-python",
   "name": "python",
   "nbconvert_exporter": "python",
   "pygments_lexer": "ipython3",
   "version": "3.9.7"
  },
  "orig_nbformat": 4
 },
 "nbformat": 4,
 "nbformat_minor": 2
}
